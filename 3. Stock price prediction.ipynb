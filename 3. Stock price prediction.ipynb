{
 "cells": [
  {
   "cell_type": "code",
   "execution_count": 2,
   "id": "494e9e3b",
   "metadata": {},
   "outputs": [
    {
     "name": "stdout",
     "output_type": "stream",
     "text": [
      "WARNING:tensorflow:From C:\\Users\\DELL\\anaconda3\\Lib\\site-packages\\keras\\src\\losses.py:2976: The name tf.losses.sparse_softmax_cross_entropy is deprecated. Please use tf.compat.v1.losses.sparse_softmax_cross_entropy instead.\n",
      "\n"
     ]
    }
   ],
   "source": [
    "import pandas as pd\n",
    "import numpy as np\n",
    "import matplotlib.pyplot as plt\n",
    "from sklearn.preprocessing import MinMaxScaler\n",
    "from keras.models import Sequential\n",
    "from keras.layers import Dense, Dropout, LSTM, Bidirectional"
   ]
  },
  {
   "cell_type": "code",
   "execution_count": 8,
   "id": "54a736f5",
   "metadata": {},
   "outputs": [
    {
     "data": {
      "text/html": [
       "<div>\n",
       "<style scoped>\n",
       "    .dataframe tbody tr th:only-of-type {\n",
       "        vertical-align: middle;\n",
       "    }\n",
       "\n",
       "    .dataframe tbody tr th {\n",
       "        vertical-align: top;\n",
       "    }\n",
       "\n",
       "    .dataframe thead th {\n",
       "        text-align: right;\n",
       "    }\n",
       "</style>\n",
       "<table border=\"1\" class=\"dataframe\">\n",
       "  <thead>\n",
       "    <tr style=\"text-align: right;\">\n",
       "      <th></th>\n",
       "      <th>date</th>\n",
       "      <th>close</th>\n",
       "      <th>high</th>\n",
       "      <th>low</th>\n",
       "      <th>open</th>\n",
       "      <th>volume</th>\n",
       "    </tr>\n",
       "  </thead>\n",
       "  <tbody>\n",
       "    <tr>\n",
       "      <th>0</th>\n",
       "      <td>2016-06-14 00:00:00+00:00</td>\n",
       "      <td>718.27</td>\n",
       "      <td>722.470</td>\n",
       "      <td>713.1200</td>\n",
       "      <td>716.48</td>\n",
       "      <td>1306065</td>\n",
       "    </tr>\n",
       "    <tr>\n",
       "      <th>1</th>\n",
       "      <td>2016-06-15 00:00:00+00:00</td>\n",
       "      <td>718.92</td>\n",
       "      <td>722.980</td>\n",
       "      <td>717.3100</td>\n",
       "      <td>719.00</td>\n",
       "      <td>1214517</td>\n",
       "    </tr>\n",
       "    <tr>\n",
       "      <th>2</th>\n",
       "      <td>2016-06-16 00:00:00+00:00</td>\n",
       "      <td>710.36</td>\n",
       "      <td>716.650</td>\n",
       "      <td>703.2600</td>\n",
       "      <td>714.91</td>\n",
       "      <td>1982471</td>\n",
       "    </tr>\n",
       "    <tr>\n",
       "      <th>3</th>\n",
       "      <td>2016-06-17 00:00:00+00:00</td>\n",
       "      <td>691.72</td>\n",
       "      <td>708.820</td>\n",
       "      <td>688.4515</td>\n",
       "      <td>708.65</td>\n",
       "      <td>3402357</td>\n",
       "    </tr>\n",
       "    <tr>\n",
       "      <th>4</th>\n",
       "      <td>2016-06-20 00:00:00+00:00</td>\n",
       "      <td>693.71</td>\n",
       "      <td>702.480</td>\n",
       "      <td>693.4100</td>\n",
       "      <td>698.77</td>\n",
       "      <td>2082538</td>\n",
       "    </tr>\n",
       "    <tr>\n",
       "      <th>...</th>\n",
       "      <td>...</td>\n",
       "      <td>...</td>\n",
       "      <td>...</td>\n",
       "      <td>...</td>\n",
       "      <td>...</td>\n",
       "      <td>...</td>\n",
       "    </tr>\n",
       "    <tr>\n",
       "      <th>1253</th>\n",
       "      <td>2021-06-07 00:00:00+00:00</td>\n",
       "      <td>2466.09</td>\n",
       "      <td>2468.000</td>\n",
       "      <td>2441.0725</td>\n",
       "      <td>2451.32</td>\n",
       "      <td>1192453</td>\n",
       "    </tr>\n",
       "    <tr>\n",
       "      <th>1254</th>\n",
       "      <td>2021-06-08 00:00:00+00:00</td>\n",
       "      <td>2482.85</td>\n",
       "      <td>2494.495</td>\n",
       "      <td>2468.2400</td>\n",
       "      <td>2479.90</td>\n",
       "      <td>1253253</td>\n",
       "    </tr>\n",
       "    <tr>\n",
       "      <th>1255</th>\n",
       "      <td>2021-06-09 00:00:00+00:00</td>\n",
       "      <td>2491.40</td>\n",
       "      <td>2505.000</td>\n",
       "      <td>2487.3300</td>\n",
       "      <td>2499.50</td>\n",
       "      <td>1006337</td>\n",
       "    </tr>\n",
       "    <tr>\n",
       "      <th>1256</th>\n",
       "      <td>2021-06-10 00:00:00+00:00</td>\n",
       "      <td>2521.60</td>\n",
       "      <td>2523.260</td>\n",
       "      <td>2494.0000</td>\n",
       "      <td>2494.01</td>\n",
       "      <td>1561733</td>\n",
       "    </tr>\n",
       "    <tr>\n",
       "      <th>1257</th>\n",
       "      <td>2021-06-11 00:00:00+00:00</td>\n",
       "      <td>2513.93</td>\n",
       "      <td>2526.990</td>\n",
       "      <td>2498.2900</td>\n",
       "      <td>2524.92</td>\n",
       "      <td>1262309</td>\n",
       "    </tr>\n",
       "  </tbody>\n",
       "</table>\n",
       "<p>1258 rows × 6 columns</p>\n",
       "</div>"
      ],
      "text/plain": [
       "                           date    close      high        low     open  \\\n",
       "0     2016-06-14 00:00:00+00:00   718.27   722.470   713.1200   716.48   \n",
       "1     2016-06-15 00:00:00+00:00   718.92   722.980   717.3100   719.00   \n",
       "2     2016-06-16 00:00:00+00:00   710.36   716.650   703.2600   714.91   \n",
       "3     2016-06-17 00:00:00+00:00   691.72   708.820   688.4515   708.65   \n",
       "4     2016-06-20 00:00:00+00:00   693.71   702.480   693.4100   698.77   \n",
       "...                         ...      ...       ...        ...      ...   \n",
       "1253  2021-06-07 00:00:00+00:00  2466.09  2468.000  2441.0725  2451.32   \n",
       "1254  2021-06-08 00:00:00+00:00  2482.85  2494.495  2468.2400  2479.90   \n",
       "1255  2021-06-09 00:00:00+00:00  2491.40  2505.000  2487.3300  2499.50   \n",
       "1256  2021-06-10 00:00:00+00:00  2521.60  2523.260  2494.0000  2494.01   \n",
       "1257  2021-06-11 00:00:00+00:00  2513.93  2526.990  2498.2900  2524.92   \n",
       "\n",
       "       volume  \n",
       "0     1306065  \n",
       "1     1214517  \n",
       "2     1982471  \n",
       "3     3402357  \n",
       "4     2082538  \n",
       "...       ...  \n",
       "1253  1192453  \n",
       "1254  1253253  \n",
       "1255  1006337  \n",
       "1256  1561733  \n",
       "1257  1262309  \n",
       "\n",
       "[1258 rows x 6 columns]"
      ]
     },
     "execution_count": 8,
     "metadata": {},
     "output_type": "execute_result"
    }
   ],
   "source": [
    "google_stock_data = pd.read_csv(\"GOOG.csv\")\n",
    "google_stock_data"
   ]
  },
  {
   "cell_type": "code",
   "execution_count": 4,
   "id": "9b6c9c36",
   "metadata": {},
   "outputs": [
    {
     "name": "stdout",
     "output_type": "stream",
     "text": [
      "<class 'pandas.core.frame.DataFrame'>\n",
      "RangeIndex: 1258 entries, 0 to 1257\n",
      "Data columns (total 6 columns):\n",
      " #   Column  Non-Null Count  Dtype  \n",
      "---  ------  --------------  -----  \n",
      " 0   date    1258 non-null   object \n",
      " 1   close   1258 non-null   float64\n",
      " 2   high    1258 non-null   float64\n",
      " 3   low     1258 non-null   float64\n",
      " 4   open    1258 non-null   float64\n",
      " 5   volume  1258 non-null   int64  \n",
      "dtypes: float64(4), int64(1), object(1)\n",
      "memory usage: 59.1+ KB\n"
     ]
    }
   ],
   "source": [
    "google_stock_data.info()"
   ]
  },
  {
   "cell_type": "code",
   "execution_count": 5,
   "id": "842eee19",
   "metadata": {},
   "outputs": [
    {
     "data": {
      "text/plain": [
       "(1258, 6)"
      ]
     },
     "execution_count": 5,
     "metadata": {},
     "output_type": "execute_result"
    }
   ],
   "source": [
    "google_stock_data.shape"
   ]
  },
  {
   "cell_type": "code",
   "execution_count": 6,
   "id": "b463c5a6",
   "metadata": {},
   "outputs": [
    {
     "data": {
      "text/html": [
       "<div>\n",
       "<style scoped>\n",
       "    .dataframe tbody tr th:only-of-type {\n",
       "        vertical-align: middle;\n",
       "    }\n",
       "\n",
       "    .dataframe tbody tr th {\n",
       "        vertical-align: top;\n",
       "    }\n",
       "\n",
       "    .dataframe thead th {\n",
       "        text-align: right;\n",
       "    }\n",
       "</style>\n",
       "<table border=\"1\" class=\"dataframe\">\n",
       "  <thead>\n",
       "    <tr style=\"text-align: right;\">\n",
       "      <th></th>\n",
       "      <th>close</th>\n",
       "    </tr>\n",
       "  </thead>\n",
       "  <tbody>\n",
       "    <tr>\n",
       "      <th>0</th>\n",
       "      <td>718.27</td>\n",
       "    </tr>\n",
       "    <tr>\n",
       "      <th>1</th>\n",
       "      <td>718.92</td>\n",
       "    </tr>\n",
       "    <tr>\n",
       "      <th>2</th>\n",
       "      <td>710.36</td>\n",
       "    </tr>\n",
       "    <tr>\n",
       "      <th>3</th>\n",
       "      <td>691.72</td>\n",
       "    </tr>\n",
       "    <tr>\n",
       "      <th>4</th>\n",
       "      <td>693.71</td>\n",
       "    </tr>\n",
       "    <tr>\n",
       "      <th>...</th>\n",
       "      <td>...</td>\n",
       "    </tr>\n",
       "    <tr>\n",
       "      <th>1253</th>\n",
       "      <td>2466.09</td>\n",
       "    </tr>\n",
       "    <tr>\n",
       "      <th>1254</th>\n",
       "      <td>2482.85</td>\n",
       "    </tr>\n",
       "    <tr>\n",
       "      <th>1255</th>\n",
       "      <td>2491.40</td>\n",
       "    </tr>\n",
       "    <tr>\n",
       "      <th>1256</th>\n",
       "      <td>2521.60</td>\n",
       "    </tr>\n",
       "    <tr>\n",
       "      <th>1257</th>\n",
       "      <td>2513.93</td>\n",
       "    </tr>\n",
       "  </tbody>\n",
       "</table>\n",
       "<p>1258 rows × 1 columns</p>\n",
       "</div>"
      ],
      "text/plain": [
       "        close\n",
       "0      718.27\n",
       "1      718.92\n",
       "2      710.36\n",
       "3      691.72\n",
       "4      693.71\n",
       "...       ...\n",
       "1253  2466.09\n",
       "1254  2482.85\n",
       "1255  2491.40\n",
       "1256  2521.60\n",
       "1257  2513.93\n",
       "\n",
       "[1258 rows x 1 columns]"
      ]
     },
     "execution_count": 6,
     "metadata": {},
     "output_type": "execute_result"
    }
   ],
   "source": [
    "training_data = google_stock_data.iloc[:, 1:2]\n",
    "training_data"
   ]
  },
  {
   "cell_type": "code",
   "execution_count": 7,
   "id": "26c65ded",
   "metadata": {},
   "outputs": [
    {
     "data": {
      "text/plain": [
       "(1258, 1)"
      ]
     },
     "execution_count": 7,
     "metadata": {},
     "output_type": "execute_result"
    }
   ],
   "source": [
    "training_data.shape"
   ]
  },
  {
   "cell_type": "code",
   "execution_count": 8,
   "id": "2a3e5c30",
   "metadata": {},
   "outputs": [
    {
     "data": {
      "text/plain": [
       "(1258, 1)"
      ]
     },
     "execution_count": 8,
     "metadata": {},
     "output_type": "execute_result"
    }
   ],
   "source": [
    "mm = MinMaxScaler(feature_range = (0, 1))\n",
    "training_data_scaled = mm.fit_transform(training_data)\n",
    "training_data_scaled.shape"
   ]
  },
  {
   "cell_type": "code",
   "execution_count": 9,
   "id": "79f1063f",
   "metadata": {},
   "outputs": [
    {
     "name": "stdout",
     "output_type": "stream",
     "text": [
      "(1198, 1)\n",
      "(1198, 1)\n"
     ]
    }
   ],
   "source": [
    "x_train = training_data_scaled[59:1257]\n",
    "y_train = training_data_scaled[60:1258]\n",
    "print(x_train.shape)\n",
    "print(y_train.shape)"
   ]
  },
  {
   "cell_type": "code",
   "execution_count": 10,
   "id": "94910d5f",
   "metadata": {},
   "outputs": [
    {
     "name": "stdout",
     "output_type": "stream",
     "text": [
      "Epoch 1/100\n",
      "38/38 [==============================] - 17s 15ms/step - loss: 0.0881\n",
      "Epoch 2/100\n",
      "38/38 [==============================] - 1s 15ms/step - loss: 0.0314\n",
      "Epoch 3/100\n",
      "38/38 [==============================] - 1s 15ms/step - loss: 0.0118\n",
      "Epoch 4/100\n",
      "38/38 [==============================] - 1s 15ms/step - loss: 0.0045\n",
      "Epoch 5/100\n",
      "38/38 [==============================] - 1s 15ms/step - loss: 0.0032\n",
      "Epoch 6/100\n",
      "38/38 [==============================] - 1s 16ms/step - loss: 0.0035\n",
      "Epoch 7/100\n",
      "38/38 [==============================] - 1s 15ms/step - loss: 0.0028\n",
      "Epoch 8/100\n",
      "38/38 [==============================] - 1s 15ms/step - loss: 0.0027\n",
      "Epoch 9/100\n",
      "38/38 [==============================] - 1s 15ms/step - loss: 0.0023\n",
      "Epoch 10/100\n",
      "38/38 [==============================] - 1s 15ms/step - loss: 0.0021\n",
      "Epoch 11/100\n",
      "38/38 [==============================] - 1s 15ms/step - loss: 0.0017\n",
      "Epoch 12/100\n",
      "38/38 [==============================] - 1s 15ms/step - loss: 0.0017\n",
      "Epoch 13/100\n",
      "38/38 [==============================] - 1s 15ms/step - loss: 0.0019\n",
      "Epoch 14/100\n",
      "38/38 [==============================] - 1s 16ms/step - loss: 0.0017\n",
      "Epoch 15/100\n",
      "38/38 [==============================] - 1s 16ms/step - loss: 0.0017\n",
      "Epoch 16/100\n",
      "38/38 [==============================] - 1s 15ms/step - loss: 0.0018\n",
      "Epoch 17/100\n",
      "38/38 [==============================] - 1s 15ms/step - loss: 0.0016\n",
      "Epoch 18/100\n",
      "38/38 [==============================] - 1s 15ms/step - loss: 0.0015\n",
      "Epoch 19/100\n",
      "38/38 [==============================] - 1s 16ms/step - loss: 0.0015\n",
      "Epoch 20/100\n",
      "38/38 [==============================] - 1s 15ms/step - loss: 0.0014\n",
      "Epoch 21/100\n",
      "38/38 [==============================] - 1s 15ms/step - loss: 0.0014\n",
      "Epoch 22/100\n",
      "38/38 [==============================] - 1s 15ms/step - loss: 0.0014\n",
      "Epoch 23/100\n",
      "38/38 [==============================] - 1s 15ms/step - loss: 0.0015\n",
      "Epoch 24/100\n",
      "38/38 [==============================] - 1s 15ms/step - loss: 0.0013\n",
      "Epoch 25/100\n",
      "38/38 [==============================] - 1s 15ms/step - loss: 0.0013\n",
      "Epoch 26/100\n",
      "38/38 [==============================] - 1s 15ms/step - loss: 0.0014\n",
      "Epoch 27/100\n",
      "38/38 [==============================] - 1s 15ms/step - loss: 0.0012\n",
      "Epoch 28/100\n",
      "38/38 [==============================] - 1s 15ms/step - loss: 0.0012\n",
      "Epoch 29/100\n",
      "38/38 [==============================] - 1s 15ms/step - loss: 0.0012\n",
      "Epoch 30/100\n",
      "38/38 [==============================] - 1s 15ms/step - loss: 0.0014\n",
      "Epoch 31/100\n",
      "38/38 [==============================] - 1s 15ms/step - loss: 0.0012\n",
      "Epoch 32/100\n",
      "38/38 [==============================] - 1s 15ms/step - loss: 0.0012\n",
      "Epoch 33/100\n",
      "38/38 [==============================] - 1s 16ms/step - loss: 0.0013\n",
      "Epoch 34/100\n",
      "38/38 [==============================] - 1s 15ms/step - loss: 0.0013\n",
      "Epoch 35/100\n",
      "38/38 [==============================] - 1s 15ms/step - loss: 0.0013\n",
      "Epoch 36/100\n",
      "38/38 [==============================] - 1s 15ms/step - loss: 0.0011\n",
      "Epoch 37/100\n",
      "38/38 [==============================] - 1s 15ms/step - loss: 0.0013\n",
      "Epoch 38/100\n",
      "38/38 [==============================] - 1s 14ms/step - loss: 0.0013\n",
      "Epoch 39/100\n",
      "38/38 [==============================] - 1s 15ms/step - loss: 0.0011\n",
      "Epoch 40/100\n",
      "38/38 [==============================] - 1s 15ms/step - loss: 0.0011\n",
      "Epoch 41/100\n",
      "38/38 [==============================] - 1s 15ms/step - loss: 0.0011\n",
      "Epoch 42/100\n",
      "38/38 [==============================] - 1s 16ms/step - loss: 0.0011\n",
      "Epoch 43/100\n",
      "38/38 [==============================] - 1s 15ms/step - loss: 0.0012\n",
      "Epoch 44/100\n",
      "38/38 [==============================] - 1s 15ms/step - loss: 0.0012\n",
      "Epoch 45/100\n",
      "38/38 [==============================] - 1s 15ms/step - loss: 0.0011\n",
      "Epoch 46/100\n",
      "38/38 [==============================] - 1s 15ms/step - loss: 0.0013\n",
      "Epoch 47/100\n",
      "38/38 [==============================] - 1s 15ms/step - loss: 0.0011\n",
      "Epoch 48/100\n",
      "38/38 [==============================] - 1s 15ms/step - loss: 0.0013\n",
      "Epoch 49/100\n",
      "38/38 [==============================] - 1s 15ms/step - loss: 0.0011\n",
      "Epoch 50/100\n",
      "38/38 [==============================] - 1s 15ms/step - loss: 0.0010\n",
      "Epoch 51/100\n",
      "38/38 [==============================] - 1s 15ms/step - loss: 0.0011\n",
      "Epoch 52/100\n",
      "38/38 [==============================] - 1s 15ms/step - loss: 0.0011\n",
      "Epoch 53/100\n",
      "38/38 [==============================] - 1s 14ms/step - loss: 0.0010\n",
      "Epoch 54/100\n",
      "38/38 [==============================] - 1s 15ms/step - loss: 9.8152e-04\n",
      "Epoch 55/100\n",
      "38/38 [==============================] - 1s 15ms/step - loss: 0.0011\n",
      "Epoch 56/100\n",
      "38/38 [==============================] - 1s 15ms/step - loss: 0.0011\n",
      "Epoch 57/100\n",
      "38/38 [==============================] - 1s 15ms/step - loss: 0.0012\n",
      "Epoch 58/100\n",
      "38/38 [==============================] - 1s 15ms/step - loss: 0.0010\n",
      "Epoch 59/100\n",
      "38/38 [==============================] - 1s 15ms/step - loss: 0.0011\n",
      "Epoch 60/100\n",
      "38/38 [==============================] - 1s 15ms/step - loss: 9.7512e-04\n",
      "Epoch 61/100\n",
      "38/38 [==============================] - 1s 15ms/step - loss: 0.0011\n",
      "Epoch 62/100\n",
      "38/38 [==============================] - 1s 15ms/step - loss: 0.0011\n",
      "Epoch 63/100\n",
      "38/38 [==============================] - 1s 15ms/step - loss: 0.0011\n",
      "Epoch 64/100\n",
      "38/38 [==============================] - 1s 15ms/step - loss: 0.0010\n",
      "Epoch 65/100\n",
      "38/38 [==============================] - 1s 14ms/step - loss: 0.0011\n",
      "Epoch 66/100\n",
      "38/38 [==============================] - 1s 15ms/step - loss: 0.0011\n",
      "Epoch 67/100\n",
      "38/38 [==============================] - 1s 15ms/step - loss: 0.0010\n",
      "Epoch 68/100\n",
      "38/38 [==============================] - 1s 15ms/step - loss: 0.0010\n",
      "Epoch 69/100\n",
      "38/38 [==============================] - 1s 15ms/step - loss: 0.0011\n",
      "Epoch 70/100\n",
      "38/38 [==============================] - 1s 16ms/step - loss: 0.0011\n",
      "Epoch 71/100\n",
      "38/38 [==============================] - 1s 15ms/step - loss: 0.0011\n",
      "Epoch 72/100\n",
      "38/38 [==============================] - 1s 15ms/step - loss: 0.0010\n",
      "Epoch 73/100\n",
      "38/38 [==============================] - 1s 15ms/step - loss: 0.0010\n",
      "Epoch 74/100\n",
      "38/38 [==============================] - 1s 15ms/step - loss: 9.9396e-04\n",
      "Epoch 75/100\n",
      "38/38 [==============================] - 1s 15ms/step - loss: 0.0011\n",
      "Epoch 76/100\n",
      "38/38 [==============================] - 1s 15ms/step - loss: 9.7963e-04\n",
      "Epoch 77/100\n",
      "38/38 [==============================] - 1s 15ms/step - loss: 9.8621e-04\n",
      "Epoch 78/100\n",
      "38/38 [==============================] - 1s 15ms/step - loss: 0.0011\n",
      "Epoch 79/100\n",
      "38/38 [==============================] - 1s 16ms/step - loss: 0.0010\n",
      "Epoch 80/100\n",
      "38/38 [==============================] - 1s 15ms/step - loss: 0.0010\n",
      "Epoch 81/100\n",
      "38/38 [==============================] - 1s 15ms/step - loss: 9.5915e-04\n",
      "Epoch 82/100\n",
      "38/38 [==============================] - 1s 15ms/step - loss: 0.0010\n",
      "Epoch 83/100\n",
      "38/38 [==============================] - 1s 16ms/step - loss: 0.0012\n",
      "Epoch 84/100\n",
      "38/38 [==============================] - 1s 15ms/step - loss: 0.0010\n",
      "Epoch 85/100\n",
      "38/38 [==============================] - 1s 15ms/step - loss: 8.8886e-04\n",
      "Epoch 86/100\n",
      "38/38 [==============================] - 1s 15ms/step - loss: 9.4774e-04\n",
      "Epoch 87/100\n",
      "38/38 [==============================] - 1s 15ms/step - loss: 8.5983e-04\n",
      "Epoch 88/100\n",
      "38/38 [==============================] - 1s 15ms/step - loss: 9.9181e-04\n",
      "Epoch 89/100\n",
      "38/38 [==============================] - 1s 15ms/step - loss: 9.8953e-04\n",
      "Epoch 90/100\n",
      "38/38 [==============================] - 1s 15ms/step - loss: 0.0011\n",
      "Epoch 91/100\n",
      "38/38 [==============================] - 1s 15ms/step - loss: 9.0810e-04\n",
      "Epoch 92/100\n",
      "38/38 [==============================] - 1s 15ms/step - loss: 9.3252e-04\n",
      "Epoch 93/100\n",
      "38/38 [==============================] - 1s 15ms/step - loss: 0.0011\n",
      "Epoch 94/100\n",
      "38/38 [==============================] - 1s 15ms/step - loss: 9.1729e-04\n",
      "Epoch 95/100\n",
      "38/38 [==============================] - 1s 15ms/step - loss: 0.0010\n",
      "Epoch 96/100\n",
      "38/38 [==============================] - 1s 14ms/step - loss: 8.4228e-04\n",
      "Epoch 97/100\n",
      "38/38 [==============================] - 1s 15ms/step - loss: 8.4300e-04\n",
      "Epoch 98/100\n",
      "38/38 [==============================] - 1s 16ms/step - loss: 8.7525e-04\n",
      "Epoch 99/100\n",
      "38/38 [==============================] - 1s 15ms/step - loss: 9.4452e-04\n",
      "Epoch 100/100\n"
     ]
    },
    {
     "name": "stdout",
     "output_type": "stream",
     "text": [
      "38/38 [==============================] - 1s 15ms/step - loss: 0.0010\n"
     ]
    },
    {
     "data": {
      "text/plain": [
       "<keras.callbacks.History at 0x1aeffddb8e0>"
      ]
     },
     "execution_count": 10,
     "metadata": {},
     "output_type": "execute_result"
    }
   ],
   "source": [
    "model = Sequential()\n",
    "model.add(LSTM(units=50,return_sequences=True,input_shape=(x_train.shape[1], 1)))\n",
    "model.add(Dropout(0.2))\n",
    "model.add(LSTM(units=50,return_sequences=True))\n",
    "model.add(Dropout(0.2))\n",
    "model.add(LSTM(units=50,return_sequences=True))\n",
    "model.add(Dropout(0.2))\n",
    "model.add(LSTM(units=50))\n",
    "model.add(Dropout(0.2))\n",
    "model.add(Dense(units=1))\n",
    "model.compile(optimizer='adam',loss='mean_squared_error')\n",
    "model.fit(x_train,y_train,epochs=100,batch_size=32)"
   ]
  },
  {
   "cell_type": "code",
   "execution_count": 15,
   "id": "2877a95d",
   "metadata": {},
   "outputs": [
    {
     "data": {
      "text/plain": [
       "array([[ 718.27],\n",
       "       [ 718.92],\n",
       "       [ 710.36],\n",
       "       ...,\n",
       "       [2491.4 ],\n",
       "       [2521.6 ],\n",
       "       [2513.93]])"
      ]
     },
     "execution_count": 15,
     "metadata": {},
     "output_type": "execute_result"
    }
   ],
   "source": [
    "dataset_test = pd.read_csv(\"GOOG.csv\")\n",
    "real_stock_price = dataset_test.iloc[:, 1:2].values\n",
    "real_stock_price"
   ]
  },
  {
   "cell_type": "code",
   "execution_count": null,
   "id": "edd90b88",
   "metadata": {},
   "outputs": [],
   "source": [
    "mm = MinMaxScaler(feature_range = (0, 1))\n",
    "testing_data_scaled = mm.fit_transform(real_stock_price)\n",
    "testing_data_scaled.shape"
   ]
  },
  {
   "cell_type": "code",
   "execution_count": 11,
   "id": "9a52c039",
   "metadata": {},
   "outputs": [
    {
     "name": "stdout",
     "output_type": "stream",
     "text": [
      "(228, 1)\n",
      "(228, 1)\n"
     ]
    }
   ],
   "source": [
    "x_test = training_data_scaled[29:257]\n",
    "y_test = training_data_scaled[30:258]\n",
    "print(x_test.shape)\n",
    "print(y_test.shape)"
   ]
  },
  {
   "cell_type": "code",
   "execution_count": 12,
   "id": "9b632f8f",
   "metadata": {},
   "outputs": [
    {
     "name": "stdout",
     "output_type": "stream",
     "text": [
      "8/8 [==============================] - 4s 7ms/step - loss: 8.1592e-05\n"
     ]
    },
    {
     "data": {
      "text/plain": [
       "8.159202116075903e-05"
      ]
     },
     "execution_count": 12,
     "metadata": {},
     "output_type": "execute_result"
    }
   ],
   "source": [
    "model.evaluate(x_test,y_test)"
   ]
  },
  {
   "cell_type": "code",
   "execution_count": null,
   "id": "e136138b",
   "metadata": {},
   "outputs": [],
   "source": []
  },
  {
   "cell_type": "code",
   "execution_count": null,
   "id": "802361b6",
   "metadata": {},
   "outputs": [],
   "source": []
  }
 ],
 "metadata": {
  "kernelspec": {
   "display_name": "Python 3 (ipykernel)",
   "language": "python",
   "name": "python3"
  },
  "language_info": {
   "codemirror_mode": {
    "name": "ipython",
    "version": 3
   },
   "file_extension": ".py",
   "mimetype": "text/x-python",
   "name": "python",
   "nbconvert_exporter": "python",
   "pygments_lexer": "ipython3",
   "version": "3.11.4"
  }
 },
 "nbformat": 4,
 "nbformat_minor": 5
}
